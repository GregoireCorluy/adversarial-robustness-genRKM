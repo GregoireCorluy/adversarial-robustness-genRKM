{
 "cells": [
  {
   "cell_type": "code",
   "execution_count": 1,
   "metadata": {},
   "outputs": [],
   "source": [
    "import argparse\n",
    "import matplotlib.animation as animation\n",
    "import matplotlib.pyplot as plt\n",
    "from sklearn.mixture import GaussianMixture as GMM\n",
    "from utils import *\n",
    "import numpy as np\n",
    "import torch\n",
    "import copy\n",
    "import matplotlib.patches as patches"
   ]
  },
  {
   "cell_type": "code",
   "execution_count": 3,
   "metadata": {},
   "outputs": [],
   "source": [
    "sd_mdl = torch.load('out/MNIST_vanilla_RKM_h128_oneview.tar', map_location=torch.device('cpu'))\n",
    "#out/MNIST_vanilla_RKM_h128_oneview.tar\n",
    "#out/MNIST_adv_linf_RKM_h_500.tar\n",
    "\n",
    "net1 = sd_mdl['net1'].float().cpu()\n",
    "net3 = sd_mdl['net3'].float().cpu()\n",
    "net2 = sd_mdl['net2'].float().cpu()\n",
    "net4 = sd_mdl['net4'].float().cpu()\n",
    "net1.load_state_dict(sd_mdl['net1_state_dict'])\n",
    "net3.load_state_dict(sd_mdl['net3_state_dict'])\n",
    "net2.load_state_dict(sd_mdl['net2_state_dict'])\n",
    "net4.load_state_dict(sd_mdl['net4_state_dict'])\n",
    "h = sd_mdl['h'].float().detach().cpu()\n",
    "s = sd_mdl['s'].float().detach().cpu()\n",
    "V = sd_mdl['V'].float().detach().cpu()\n",
    "U = sd_mdl['U'].float().detach().cpu()\n",
    "\n",
    "sd_mdl_ = torch.load('out/MNIST_adv_RKM_h128_epoch200_pert30_oneview.tar', map_location=torch.device('cpu'))\n",
    "\n",
    "net1_ = sd_mdl_['net1'].float().cpu()\n",
    "net3_ = sd_mdl_['net3'].float().cpu()\n",
    "net2_ = sd_mdl_['net2'].float().cpu()\n",
    "net4_ = sd_mdl_['net4'].float().cpu()\n",
    "net1_.load_state_dict(sd_mdl_['net1_state_dict'])\n",
    "net3_.load_state_dict(sd_mdl_['net3_state_dict'])\n",
    "net2_.load_state_dict(sd_mdl_['net2_state_dict'])\n",
    "net4_.load_state_dict(sd_mdl_['net4_state_dict'])\n",
    "h_ = sd_mdl_['h'].float().detach().cpu()\n",
    "s_ = sd_mdl_['s'].float().detach().cpu()\n",
    "V_ = sd_mdl_['V'].float().detach().cpu()\n",
    "U_ = sd_mdl_['U'].float().detach().cpu()"
   ]
  },
  {
   "cell_type": "code",
   "execution_count": 4,
   "metadata": {},
   "outputs": [
    {
     "name": "stderr",
     "output_type": "stream",
     "text": [
      "c:\\Users\\gcorl\\OneDrive\\Documents\\KUL\\Master 2\\Master thesis\\Programming\\Restricted_Kernel_Machines_Demo_MNIST\\myenv\\lib\\site-packages\\torchvision\\datasets\\mnist.py:75: UserWarning: train_data has been renamed data\n",
      "  warnings.warn(\"train_data has been renamed data\")\n"
     ]
    }
   ],
   "source": [
    "# Load a Pre-trained model or saved model ====================\n",
    "parser = argparse.ArgumentParser(formatter_class=argparse.ArgumentDefaultsHelpFormatter)\n",
    "parser.add_argument('--filename', type=str, default=\"out/MNIST_adv_linf_RKM_h_500.tar\", help='Enter Filename')\n",
    "parser.add_argument('--device', type=str, default='cpu', help='Device type: cuda or cpu')\n",
    "opt_gen = parser.parse_args()\n",
    "\n",
    "if 'opt' in sd_mdl:\n",
    "    opt = sd_mdl['opt']\n",
    "    #self.opt_gen = argparse.Namespace(**vars(opt), **vars(self.opt_gen))\n",
    "    opt_dict = vars(opt)\n",
    "    opt_dict.update(vars(opt_gen))  # Update opt_gen with values from opt, prioritizing opt_gen\n",
    "    opt_gen = argparse.Namespace(**opt_dict)\n",
    "else:\n",
    "    opt_gen.mb_size = 200\n",
    "    \n",
    "#load the data\n",
    "opt_gen.shuffle = False\n",
    "xt, _, _ = get_mnist_dataloader(args=opt_gen)  # loading data without shuffle\n",
    "xtrain = xt.dataset.train_data[:h.shape[0], :, :, :]  #60.000, 1, 28, 28; h shape 0: 5000\n",
    "ytrain = xt.dataset.targets[:h.shape[0], :]\n",
    "\n",
    "image_ori = xtrain[0, :, :, :].float()"
   ]
  },
  {
   "cell_type": "code",
   "execution_count": 5,
   "metadata": {},
   "outputs": [
    {
     "name": "stdout",
     "output_type": "stream",
     "text": [
      "torch.Size([1, 28, 28])\n",
      "torch.Size([1, 128])\n",
      "output1 torch.Size([1, 128])\n",
      "U torch.Size([128, 128])\n",
      "lam_inv torch.Size([128, 128])\n"
     ]
    }
   ],
   "source": [
    "#go to the feature space\n",
    "image_ori = xtrain[0, :, :, :].float()\n",
    "print(image_ori.shape)\n",
    "image_ori = image_ori[None, :, :, :]\n",
    "assert image_ori.shape == (1, 1, 28, 28)\n",
    "\n",
    "output1 = net1(image_ori)\n",
    "\n",
    "print(output1.shape)\n",
    "\n",
    "#compute (Lambda-V_T*V)^-1\n",
    "#VT_V = torch.mm(V.T, V)\n",
    "Lambda = torch.diag(s[:h.size(1)])\n",
    "#lam_VTV = torch.linalg.inv(Lambda-VT_V)\n",
    "lam_inv = torch.linalg.inv(Lambda)\n",
    "\n",
    "print(f\"output1 {output1.shape}\")\n",
    "print(f\"U {U.shape}\")\n",
    "print(f\"lam_inv {lam_inv.shape}\")\n",
    "\n",
    "#compute h = (Lambda-V_T*V)^-1*U_T*net1(x)\n",
    "#note here the computation is done with everything transposed\n",
    "latent1 = torch.mm(torch.mm(output1, U),lam_inv.T)\n",
    "#latent1 = torch.mm(torch.mm(output1, U),lam_VTV.T)\n",
    "\n",
    "\n",
    "#go back to the feature space U*h\n",
    "my_input_net3 = torch.mm(latent1, torch.t(U))\n",
    "\n",
    "#go back to the image space\n",
    "datax_gen = net3(my_input_net3[0,:])"
   ]
  },
  {
   "cell_type": "code",
   "execution_count": 6,
   "metadata": {},
   "outputs": [
    {
     "data": {
      "image/png": "[encoded data removed]",
      "text/plain": [
       "<Figure size 640x480 with 2 Axes>"
      ]
     },
     "metadata": {},
     "output_type": "display_data"
    }
   ],
   "source": [
    "#image_ori_gen = self.__generate_back(self.image_ori)\n",
    "image_ori_gen = datax_gen.reshape(1, 28, 28)\n",
    "\n",
    "model_name = \"genRKM\"\n",
    "\n",
    "fig, ax = plt.subplots(1, 2)\n",
    "ax[0].imshow(image_ori[0, 0, :], cmap='Greys_r', vmin=0, vmax=1)\n",
    "ax[1].imshow(image_ori_gen[0, :].detach().numpy(), cmap='Greys_r', vmin=0, vmax=1)\n",
    "ax[0].set_xticks([])\n",
    "ax[0].set_yticks([])\n",
    "ax[1].set_xticks([])\n",
    "ax[1].set_yticks([])\n",
    "plt.suptitle(f\"Original and reconstructed image with {model_name}\")\n",
    "plt.show()"
   ]
  },
  {
   "cell_type": "code",
   "execution_count": 7,
   "metadata": {},
   "outputs": [
    {
     "name": "stdout",
     "output_type": "stream",
     "text": [
      "torch.Size([1, 28, 28])\n",
      "torch.Size([1, 128])\n",
      "output1 torch.Size([1, 128])\n",
      "U torch.Size([128, 128])\n",
      "lam_inv torch.Size([128, 128])\n"
     ]
    }
   ],
   "source": [
    "#go to the feature space\n",
    "image_ori = xtrain[0, :, :, :].float()\n",
    "print(image_ori.shape)\n",
    "image_ori = image_ori[None, :, :, :]\n",
    "assert image_ori.shape == (1, 1, 28, 28)\n",
    "\n",
    "output1_ = net1_(image_ori)\n",
    "\n",
    "print(output1_.shape)\n",
    "\n",
    "#compute (Lambda-V_T*V)^-1\n",
    "#VT_V = torch.mm(V.T, V)\n",
    "Lambda_ = torch.diag(s_[:h_.size(1)])\n",
    "#lam_VTV = torch.linalg.inv(Lambda-VT_V)\n",
    "lam_inv_ = torch.linalg.inv(Lambda_)\n",
    "\n",
    "print(f\"output1 {output1_.shape}\")\n",
    "print(f\"U {U_.shape}\")\n",
    "print(f\"lam_inv {lam_inv.shape}\")\n",
    "\n",
    "#compute h = (Lambda-V_T*V)^-1*U_T*net1(x)\n",
    "#note here the computation is done with everything transposed\n",
    "latent1_ = torch.mm(torch.mm(output1_, U_),lam_inv_.T)\n",
    "#latent1 = torch.mm(torch.mm(output1, U),lam_VTV.T)\n",
    "\n",
    "\n",
    "#go back to the feature space U*h\n",
    "my_input_net3_ = torch.mm(latent1_, torch.t(U_))\n",
    "\n",
    "#go back to the image space\n",
    "datax_gen_ = net3_(my_input_net3_[0,:])"
   ]
  },
  {
   "cell_type": "code",
   "execution_count": 9,
   "metadata": {},
   "outputs": [
    {
     "data": {
      "image/png": "[encoded data removed]",
      "text/plain": [
       "<Figure size 640x480 with 2 Axes>"
      ]
     },
     "metadata": {},
     "output_type": "display_data"
    }
   ],
   "source": [
    "#image_ori_gen = self.__generate_back(self.image_ori)\n",
    "image_ori_gen_ = datax_gen_.reshape(1, 28, 28)\n",
    "\n",
    "model_name = \"genRKM\"\n",
    "\n",
    "fig, ax = plt.subplots(1, 2)\n",
    "ax[0].imshow(image_ori[0, 0, :], cmap='Greys_r', vmin=0, vmax=1)\n",
    "ax[1].imshow(image_ori_gen_[0, :].detach().numpy(), cmap='Greys_r', vmin=0, vmax=1)\n",
    "ax[0].set_xticks([])\n",
    "ax[0].set_yticks([])\n",
    "ax[1].set_xticks([])\n",
    "ax[1].set_yticks([])\n",
    "plt.suptitle(f\"Original and reconstructed image with {model_name}\")\n",
    "plt.show()"
   ]
  }
 ],
 "metadata": {
  "kernelspec": {
   "display_name": "myenv",
   "language": "python",
   "name": "python3"
  },
  "language_info": {
   "codemirror_mode": {
    "name": "ipython",
    "version": 3
   },
   "file_extension": ".py",
   "mimetype": "text/x-python",
   "name": "python",
   "nbconvert_exporter": "python",
   "pygments_lexer": "ipython3",
   "version": "3.10.10"
  }
 },
 "nbformat": 4,
 "nbformat_minor": 2
}
